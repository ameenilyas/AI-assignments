{
  "nbformat": 4,
  "nbformat_minor": 0,
  "metadata": {
    "colab": {
      "name": "assignment.ipynb",
      "provenance": []
    },
    "kernelspec": {
      "name": "python3",
      "display_name": "Python 3"
    }
  },
  "cells": [
    {
      "cell_type": "code",
      "metadata": {
        "id": "L_Zr5Svy0jy5",
        "colab": {
          "base_uri": "https://localhost:8080/",
          "height": 35
        },
        "outputId": "d66da05c-9055-4e86-b521-e6c6e334e4c2"
      },
      "source": [
        "import numpy as np\r\n",
        "\r\n",
        "np.__version__\r\n"
      ],
      "execution_count": null,
      "outputs": [
        {
          "output_type": "execute_result",
          "data": {
            "application/vnd.google.colaboratory.intrinsic+json": {
              "type": "string"
            },
            "text/plain": [
              "'1.19.4'"
            ]
          },
          "metadata": {
            "tags": []
          },
          "execution_count": 2
        }
      ]
    },
    {
      "cell_type": "code",
      "metadata": {
        "id": "yOFN3Lzv1j2i",
        "colab": {
          "base_uri": "https://localhost:8080/"
        },
        "outputId": "43d8f045-8168-40ae-b206-06b60cb8c123"
      },
      "source": [
        "#method__1\r\n",
        "\r\n",
        "a = np.arange(15).reshape(3, 5)\r\n",
        "a"
      ],
      "execution_count": null,
      "outputs": [
        {
          "output_type": "execute_result",
          "data": {
            "text/plain": [
              "array([[ 0,  1,  2,  3,  4],\n",
              "       [ 5,  6,  7,  8,  9],\n",
              "       [10, 11, 12, 13, 14]])"
            ]
          },
          "metadata": {
            "tags": []
          },
          "execution_count": 3
        }
      ]
    },
    {
      "cell_type": "code",
      "metadata": {
        "colab": {
          "base_uri": "https://localhost:8080/"
        },
        "id": "vlFg0CO6rYVZ",
        "outputId": "ae13f1e4-8110-494f-f382-1045c4a25361"
      },
      "source": [
        "#method_2\r\n",
        "\r\n",
        "a.shape"
      ],
      "execution_count": null,
      "outputs": [
        {
          "output_type": "execute_result",
          "data": {
            "text/plain": [
              "(3, 5)"
            ]
          },
          "metadata": {
            "tags": []
          },
          "execution_count": 4
        }
      ]
    },
    {
      "cell_type": "code",
      "metadata": {
        "colab": {
          "base_uri": "https://localhost:8080/"
        },
        "id": "rHhNnuDcrecl",
        "outputId": "da0891cf-5f46-4f9a-919e-66ae3d8e3fd8"
      },
      "source": [
        "#method_3\r\n",
        "\r\n",
        "a.ndim\r\n"
      ],
      "execution_count": null,
      "outputs": [
        {
          "output_type": "execute_result",
          "data": {
            "text/plain": [
              "2"
            ]
          },
          "metadata": {
            "tags": []
          },
          "execution_count": 5
        }
      ]
    },
    {
      "cell_type": "code",
      "metadata": {
        "colab": {
          "base_uri": "https://localhost:8080/",
          "height": 35
        },
        "id": "RoIKg_tmrm_P",
        "outputId": "35bdc510-de19-4873-d885-b3c5f4b6cd70"
      },
      "source": [
        "#method_4\r\n",
        "\r\n",
        "a.dtype.name\r\n"
      ],
      "execution_count": null,
      "outputs": [
        {
          "output_type": "execute_result",
          "data": {
            "application/vnd.google.colaboratory.intrinsic+json": {
              "type": "string"
            },
            "text/plain": [
              "'int64'"
            ]
          },
          "metadata": {
            "tags": []
          },
          "execution_count": 6
        }
      ]
    },
    {
      "cell_type": "code",
      "metadata": {
        "colab": {
          "base_uri": "https://localhost:8080/"
        },
        "id": "v0OC30V7rsKi",
        "outputId": "b9284744-272d-4df2-87c3-ab8401289c2c"
      },
      "source": [
        "#method_5\r\n",
        "\r\n",
        "a.itemsize\r\n"
      ],
      "execution_count": null,
      "outputs": [
        {
          "output_type": "execute_result",
          "data": {
            "text/plain": [
              "8"
            ]
          },
          "metadata": {
            "tags": []
          },
          "execution_count": 7
        }
      ]
    },
    {
      "cell_type": "code",
      "metadata": {
        "colab": {
          "base_uri": "https://localhost:8080/"
        },
        "id": "mrJVgUTWrwDg",
        "outputId": "64ff09ec-bc02-49d2-ba59-954967804e45"
      },
      "source": [
        "#method_6\r\n",
        "\r\n",
        "a.size\r\n"
      ],
      "execution_count": null,
      "outputs": [
        {
          "output_type": "execute_result",
          "data": {
            "text/plain": [
              "15"
            ]
          },
          "metadata": {
            "tags": []
          },
          "execution_count": 8
        }
      ]
    },
    {
      "cell_type": "code",
      "metadata": {
        "colab": {
          "base_uri": "https://localhost:8080/"
        },
        "id": "1WTDNI7Qr39o",
        "outputId": "3318bcb6-3373-4916-c8ea-34ae148ed911"
      },
      "source": [
        "#method_7\r\n",
        "\r\n",
        "a.item"
      ],
      "execution_count": null,
      "outputs": [
        {
          "output_type": "execute_result",
          "data": {
            "text/plain": [
              "<function ndarray.item>"
            ]
          },
          "metadata": {
            "tags": []
          },
          "execution_count": 13
        }
      ]
    },
    {
      "cell_type": "code",
      "metadata": {
        "colab": {
          "base_uri": "https://localhost:8080/"
        },
        "id": "uPGPv5uEr9dn",
        "outputId": "5782e26c-2a95-4ae5-8a45-4c98c7335361"
      },
      "source": [
        "#method_8\r\n",
        "\r\n",
        "type(a)"
      ],
      "execution_count": null,
      "outputs": [
        {
          "output_type": "execute_result",
          "data": {
            "text/plain": [
              "numpy.ndarray"
            ]
          },
          "metadata": {
            "tags": []
          },
          "execution_count": 14
        }
      ]
    },
    {
      "cell_type": "code",
      "metadata": {
        "colab": {
          "base_uri": "https://localhost:8080/"
        },
        "id": "zbPpGPsVsOWr",
        "outputId": "33f1632b-3281-4df5-fa87-63038b33aca8"
      },
      "source": [
        "#method_9\r\n",
        "\r\n",
        "\r\n",
        "b = np.array([6, 7, 8])\r\n",
        "b"
      ],
      "execution_count": null,
      "outputs": [
        {
          "output_type": "execute_result",
          "data": {
            "text/plain": [
              "array([6, 7, 8])"
            ]
          },
          "metadata": {
            "tags": []
          },
          "execution_count": 15
        }
      ]
    },
    {
      "cell_type": "code",
      "metadata": {
        "colab": {
          "base_uri": "https://localhost:8080/"
        },
        "id": "Sym8v6O9sb44",
        "outputId": "ff96e9e5-6672-4d47-db61-8860ff1138ad"
      },
      "source": [
        " #method_10\r\n",
        "\r\n",
        " a = np.array([2, 3, 4])\r\n",
        " \r\n",
        " a, type(a), a.dtype\r\n"
      ],
      "execution_count": null,
      "outputs": [
        {
          "output_type": "execute_result",
          "data": {
            "text/plain": [
              "(array([2, 3, 4]), numpy.ndarray, dtype('int64'))"
            ]
          },
          "metadata": {
            "tags": []
          },
          "execution_count": 22
        }
      ]
    },
    {
      "cell_type": "code",
      "metadata": {
        "colab": {
          "base_uri": "https://localhost:8080/"
        },
        "id": "sj2lejsSstwO",
        "outputId": "7e8c76fe-1356-4bed-b1b8-e6d4c6554636"
      },
      "source": [
        "#method_11\r\n",
        "\r\n",
        "b = np.array([2.5, 3.8, 4.3])\r\n",
        " \r\n",
        "b, type(b), b.dtype"
      ],
      "execution_count": null,
      "outputs": [
        {
          "output_type": "execute_result",
          "data": {
            "text/plain": [
              "(array([2.5, 3.8, 4.3]), numpy.ndarray, dtype('float64'))"
            ]
          },
          "metadata": {
            "tags": []
          },
          "execution_count": 21
        }
      ]
    },
    {
      "cell_type": "code",
      "metadata": {
        "colab": {
          "base_uri": "https://localhost:8080/"
        },
        "id": "9EIyNvVss_ir",
        "outputId": "3a63fd54-0e30-4466-9f2b-daf46b8223b2"
      },
      "source": [
        "#method_12\r\n",
        "\r\n",
        "\r\n",
        "b = np.array([(1.5, 3, 3), (4, 6, 8)])\r\n",
        "\r\n",
        "b, b.dtype"
      ],
      "execution_count": null,
      "outputs": [
        {
          "output_type": "execute_result",
          "data": {
            "text/plain": [
              "(array([[1.5, 3. , 3. ],\n",
              "        [4. , 6. , 8. ]]), dtype('float64'))"
            ]
          },
          "metadata": {
            "tags": []
          },
          "execution_count": 28
        }
      ]
    },
    {
      "cell_type": "code",
      "metadata": {
        "colab": {
          "base_uri": "https://localhost:8080/"
        },
        "id": "6hZ500n8ti3W",
        "outputId": "b1052a75-cdfa-45c9-e520-9373c3bbea90"
      },
      "source": [
        "#method_13\r\n",
        "\r\n",
        "c = np.array([[1,2], [3,4]], dtype=complex)\r\n",
        "\r\n",
        "c"
      ],
      "execution_count": null,
      "outputs": [
        {
          "output_type": "execute_result",
          "data": {
            "text/plain": [
              "array([[1.+0.j, 2.+0.j],\n",
              "       [3.+0.j, 4.+0.j]])"
            ]
          },
          "metadata": {
            "tags": []
          },
          "execution_count": 30
        }
      ]
    },
    {
      "cell_type": "code",
      "metadata": {
        "colab": {
          "base_uri": "https://localhost:8080/"
        },
        "id": "3P1keHfduGZZ",
        "outputId": "cb93c547-f961-4a43-c9f4-5ecca62c56bb"
      },
      "source": [
        "#method_14\r\n",
        "\r\n",
        "d = np.zeros((3, 4))\r\n",
        "d"
      ],
      "execution_count": null,
      "outputs": [
        {
          "output_type": "execute_result",
          "data": {
            "text/plain": [
              "array([[0., 0., 0., 0.],\n",
              "       [0., 0., 0., 0.],\n",
              "       [0., 0., 0., 0.]])"
            ]
          },
          "metadata": {
            "tags": []
          },
          "execution_count": 33
        }
      ]
    },
    {
      "cell_type": "code",
      "metadata": {
        "colab": {
          "base_uri": "https://localhost:8080/"
        },
        "id": "t-2W7MfNugFL",
        "outputId": "a63a5823-72bc-4da2-e2cd-f3144e8d52a7"
      },
      "source": [
        "#method_15\r\n",
        "\r\n",
        "np.ones((2, 5, 2))"
      ],
      "execution_count": null,
      "outputs": [
        {
          "output_type": "execute_result",
          "data": {
            "text/plain": [
              "array([[[1., 1.],\n",
              "        [1., 1.],\n",
              "        [1., 1.],\n",
              "        [1., 1.],\n",
              "        [1., 1.]],\n",
              "\n",
              "       [[1., 1.],\n",
              "        [1., 1.],\n",
              "        [1., 1.],\n",
              "        [1., 1.],\n",
              "        [1., 1.]]])"
            ]
          },
          "metadata": {
            "tags": []
          },
          "execution_count": 36
        }
      ]
    },
    {
      "cell_type": "code",
      "metadata": {
        "colab": {
          "base_uri": "https://localhost:8080/"
        },
        "id": "9g6-KE78uzPS",
        "outputId": "792f3d19-7dc4-446d-cec0-0e00ed799a0e"
      },
      "source": [
        "#method_16\r\n",
        "\r\n",
        "np.empty((2, 5))"
      ],
      "execution_count": null,
      "outputs": [
        {
          "output_type": "execute_result",
          "data": {
            "text/plain": [
              "array([[3.62179446e-316, 2.58883487e-312, 2.41907520e-312,\n",
              "        2.14321575e-312, 8.48798317e-313],\n",
              "       [1.08221785e-312, 6.79038653e-313, 8.70018275e-313,\n",
              "        2.02566915e-322, 0.00000000e+000]])"
            ]
          },
          "metadata": {
            "tags": []
          },
          "execution_count": 37
        }
      ]
    },
    {
      "cell_type": "code",
      "metadata": {
        "colab": {
          "base_uri": "https://localhost:8080/"
        },
        "id": "ubt-DzbgvBZO",
        "outputId": "716d9a4a-0bb8-4a75-ad65-2e4afcdaff6d"
      },
      "source": [
        "#method_17\r\n",
        "\r\n",
        "np.arange(10, 30, 5)"
      ],
      "execution_count": null,
      "outputs": [
        {
          "output_type": "execute_result",
          "data": {
            "text/plain": [
              "array([10, 15, 20, 25])"
            ]
          },
          "metadata": {
            "tags": []
          },
          "execution_count": 38
        }
      ]
    },
    {
      "cell_type": "code",
      "metadata": {
        "colab": {
          "base_uri": "https://localhost:8080/"
        },
        "id": "x3p-ACULvaJA",
        "outputId": "176eb6fc-f27f-4c05-b320-5c48361efd31"
      },
      "source": [
        "#method_18\r\n",
        "\r\n",
        "np.arange(.5, 15, 3)"
      ],
      "execution_count": null,
      "outputs": [
        {
          "output_type": "execute_result",
          "data": {
            "text/plain": [
              "array([ 0.5,  3.5,  6.5,  9.5, 12.5])"
            ]
          },
          "metadata": {
            "tags": []
          },
          "execution_count": 39
        }
      ]
    },
    {
      "cell_type": "code",
      "metadata": {
        "colab": {
          "base_uri": "https://localhost:8080/"
        },
        "id": "AFE5DCawvlO4",
        "outputId": "d8c461de-0642-4b6e-d09b-0f444f35fdf2"
      },
      "source": [
        "#method_19\r\n",
        "\r\n",
        "from numpy import pi\r\n",
        "\r\n",
        "np.linspace(0, 2, 9)"
      ],
      "execution_count": null,
      "outputs": [
        {
          "output_type": "execute_result",
          "data": {
            "text/plain": [
              "array([0.  , 0.25, 0.5 , 0.75, 1.  , 1.25, 1.5 , 1.75, 2.  ])"
            ]
          },
          "metadata": {
            "tags": []
          },
          "execution_count": 42
        }
      ]
    },
    {
      "cell_type": "code",
      "metadata": {
        "colab": {
          "base_uri": "https://localhost:8080/"
        },
        "id": "MK4ZRdPGvtIh",
        "outputId": "1f7585e0-c99a-4bfe-8f46-b292f31fab10"
      },
      "source": [
        "#method_20\r\n",
        "\r\n",
        "x = np.linspace(0, 2*pi, 100)\r\n",
        "x"
      ],
      "execution_count": null,
      "outputs": [
        {
          "output_type": "execute_result",
          "data": {
            "text/plain": [
              "array([0.        , 0.06346652, 0.12693304, 0.19039955, 0.25386607,\n",
              "       0.31733259, 0.38079911, 0.44426563, 0.50773215, 0.57119866,\n",
              "       0.63466518, 0.6981317 , 0.76159822, 0.82506474, 0.88853126,\n",
              "       0.95199777, 1.01546429, 1.07893081, 1.14239733, 1.20586385,\n",
              "       1.26933037, 1.33279688, 1.3962634 , 1.45972992, 1.52319644,\n",
              "       1.58666296, 1.65012947, 1.71359599, 1.77706251, 1.84052903,\n",
              "       1.90399555, 1.96746207, 2.03092858, 2.0943951 , 2.15786162,\n",
              "       2.22132814, 2.28479466, 2.34826118, 2.41172769, 2.47519421,\n",
              "       2.53866073, 2.60212725, 2.66559377, 2.72906028, 2.7925268 ,\n",
              "       2.85599332, 2.91945984, 2.98292636, 3.04639288, 3.10985939,\n",
              "       3.17332591, 3.23679243, 3.30025895, 3.36372547, 3.42719199,\n",
              "       3.4906585 , 3.55412502, 3.61759154, 3.68105806, 3.74452458,\n",
              "       3.8079911 , 3.87145761, 3.93492413, 3.99839065, 4.06185717,\n",
              "       4.12532369, 4.1887902 , 4.25225672, 4.31572324, 4.37918976,\n",
              "       4.44265628, 4.5061228 , 4.56958931, 4.63305583, 4.69652235,\n",
              "       4.75998887, 4.82345539, 4.88692191, 4.95038842, 5.01385494,\n",
              "       5.07732146, 5.14078798, 5.2042545 , 5.26772102, 5.33118753,\n",
              "       5.39465405, 5.45812057, 5.52158709, 5.58505361, 5.64852012,\n",
              "       5.71198664, 5.77545316, 5.83891968, 5.9023862 , 5.96585272,\n",
              "       6.02931923, 6.09278575, 6.15625227, 6.21971879, 6.28318531])"
            ]
          },
          "metadata": {
            "tags": []
          },
          "execution_count": 44
        }
      ]
    },
    {
      "cell_type": "code",
      "metadata": {
        "colab": {
          "base_uri": "https://localhost:8080/"
        },
        "id": "O6ESxG87w6q3",
        "outputId": "8306cf7f-ab1e-4c4f-b847-c15328ba765e"
      },
      "source": [
        "#method_21\r\n",
        "\r\n",
        "f = np.sin(x)\r\n",
        "f"
      ],
      "execution_count": null,
      "outputs": [
        {
          "output_type": "execute_result",
          "data": {
            "text/plain": [
              "array([ 0.00000000e+00,  6.34239197e-02,  1.26592454e-01,  1.89251244e-01,\n",
              "        2.51147987e-01,  3.12033446e-01,  3.71662456e-01,  4.29794912e-01,\n",
              "        4.86196736e-01,  5.40640817e-01,  5.92907929e-01,  6.42787610e-01,\n",
              "        6.90079011e-01,  7.34591709e-01,  7.76146464e-01,  8.14575952e-01,\n",
              "        8.49725430e-01,  8.81453363e-01,  9.09631995e-01,  9.34147860e-01,\n",
              "        9.54902241e-01,  9.71811568e-01,  9.84807753e-01,  9.93838464e-01,\n",
              "        9.98867339e-01,  9.99874128e-01,  9.96854776e-01,  9.89821442e-01,\n",
              "        9.78802446e-01,  9.63842159e-01,  9.45000819e-01,  9.22354294e-01,\n",
              "        8.95993774e-01,  8.66025404e-01,  8.32569855e-01,  7.95761841e-01,\n",
              "        7.55749574e-01,  7.12694171e-01,  6.66769001e-01,  6.18158986e-01,\n",
              "        5.67059864e-01,  5.13677392e-01,  4.58226522e-01,  4.00930535e-01,\n",
              "        3.42020143e-01,  2.81732557e-01,  2.20310533e-01,  1.58001396e-01,\n",
              "        9.50560433e-02,  3.17279335e-02, -3.17279335e-02, -9.50560433e-02,\n",
              "       -1.58001396e-01, -2.20310533e-01, -2.81732557e-01, -3.42020143e-01,\n",
              "       -4.00930535e-01, -4.58226522e-01, -5.13677392e-01, -5.67059864e-01,\n",
              "       -6.18158986e-01, -6.66769001e-01, -7.12694171e-01, -7.55749574e-01,\n",
              "       -7.95761841e-01, -8.32569855e-01, -8.66025404e-01, -8.95993774e-01,\n",
              "       -9.22354294e-01, -9.45000819e-01, -9.63842159e-01, -9.78802446e-01,\n",
              "       -9.89821442e-01, -9.96854776e-01, -9.99874128e-01, -9.98867339e-01,\n",
              "       -9.93838464e-01, -9.84807753e-01, -9.71811568e-01, -9.54902241e-01,\n",
              "       -9.34147860e-01, -9.09631995e-01, -8.81453363e-01, -8.49725430e-01,\n",
              "       -8.14575952e-01, -7.76146464e-01, -7.34591709e-01, -6.90079011e-01,\n",
              "       -6.42787610e-01, -5.92907929e-01, -5.40640817e-01, -4.86196736e-01,\n",
              "       -4.29794912e-01, -3.71662456e-01, -3.12033446e-01, -2.51147987e-01,\n",
              "       -1.89251244e-01, -1.26592454e-01, -6.34239197e-02, -2.44929360e-16])"
            ]
          },
          "metadata": {
            "tags": []
          },
          "execution_count": 46
        }
      ]
    },
    {
      "cell_type": "code",
      "metadata": {
        "colab": {
          "base_uri": "https://localhost:8080/"
        },
        "id": "HJ-fDs3vxDiP",
        "outputId": "a1e15f97-e0ba-4c41-c4ac-9fe17bd87916"
      },
      "source": [
        "#method_22\r\n",
        "\r\n",
        "np.empty_like((4, 6))"
      ],
      "execution_count": null,
      "outputs": [
        {
          "output_type": "execute_result",
          "data": {
            "text/plain": [
              "array([       0, 67456320])"
            ]
          },
          "metadata": {
            "tags": []
          },
          "execution_count": 48
        }
      ]
    },
    {
      "cell_type": "code",
      "metadata": {
        "colab": {
          "base_uri": "https://localhost:8080/"
        },
        "id": "AsrVkApqyGEY",
        "outputId": "159aa347-61a1-4f32-857b-b2d7d0596803"
      },
      "source": [
        "#method_23\r\n",
        "\r\n",
        "np.ones_like((3, 8))"
      ],
      "execution_count": null,
      "outputs": [
        {
          "output_type": "execute_result",
          "data": {
            "text/plain": [
              "array([1, 1])"
            ]
          },
          "metadata": {
            "tags": []
          },
          "execution_count": 49
        }
      ]
    },
    {
      "cell_type": "code",
      "metadata": {
        "colab": {
          "base_uri": "https://localhost:8080/"
        },
        "id": "DcT0YrCPyM8u",
        "outputId": "30d6d8a8-3103-4955-eb59-d57671240ad0"
      },
      "source": [
        "#method_24\r\n",
        "\r\n",
        "np.zeros_like((2, 8))"
      ],
      "execution_count": null,
      "outputs": [
        {
          "output_type": "execute_result",
          "data": {
            "text/plain": [
              "array([0, 0])"
            ]
          },
          "metadata": {
            "tags": []
          },
          "execution_count": 50
        }
      ]
    },
    {
      "cell_type": "code",
      "metadata": {
        "colab": {
          "base_uri": "https://localhost:8080/"
        },
        "id": "AATp8C9pyhtb",
        "outputId": "1bf5d49e-5a3c-4601-db24-177a8bd921ce"
      },
      "source": [
        "#method_25\r\n",
        "\r\n",
        "a = np.array([20, 30, 0, 50])\r\n",
        "b = np.arange(4)\r\n",
        "\r\n",
        "a, b\r\n",
        "\r\n",
        "c = b-a \r\n",
        "\r\n",
        "c"
      ],
      "execution_count": null,
      "outputs": [
        {
          "output_type": "execute_result",
          "data": {
            "text/plain": [
              "array([-20, -29,   2, -47])"
            ]
          },
          "metadata": {
            "tags": []
          },
          "execution_count": 63
        }
      ]
    },
    {
      "cell_type": "code",
      "metadata": {
        "colab": {
          "base_uri": "https://localhost:8080/"
        },
        "id": "XUKegLaTyutj",
        "outputId": "b36d25fa-d7ed-4e62-f723-071eb47a6e45"
      },
      "source": [
        "#method_26\r\n",
        "\r\n",
        "b**2"
      ],
      "execution_count": null,
      "outputs": [
        {
          "output_type": "execute_result",
          "data": {
            "text/plain": [
              "array([0, 1, 4, 9])"
            ]
          },
          "metadata": {
            "tags": []
          },
          "execution_count": 64
        }
      ]
    },
    {
      "cell_type": "code",
      "metadata": {
        "colab": {
          "base_uri": "https://localhost:8080/"
        },
        "id": "SjwuM7ZHz3Jd",
        "outputId": "410e6aeb-aed3-45b6-e19c-cb75a99d8d60"
      },
      "source": [
        "#method__27\r\n",
        "\r\n",
        "10*np.sin(a)"
      ],
      "execution_count": null,
      "outputs": [
        {
          "output_type": "execute_result",
          "data": {
            "text/plain": [
              "array([ 9.12945251, -9.88031624,  0.        , -2.62374854])"
            ]
          },
          "metadata": {
            "tags": []
          },
          "execution_count": 65
        }
      ]
    },
    {
      "cell_type": "code",
      "metadata": {
        "colab": {
          "base_uri": "https://localhost:8080/"
        },
        "id": "dFoaBokT0IJX",
        "outputId": "d1fed1d6-7313-4758-fbd9-be3efc90a589"
      },
      "source": [
        "#method_28\r\n",
        "\r\n",
        "a>35, a"
      ],
      "execution_count": null,
      "outputs": [
        {
          "output_type": "execute_result",
          "data": {
            "text/plain": [
              "(array([False, False, False,  True]), array([20, 30,  0, 50]))"
            ]
          },
          "metadata": {
            "tags": []
          },
          "execution_count": 67
        }
      ]
    },
    {
      "cell_type": "code",
      "metadata": {
        "colab": {
          "base_uri": "https://localhost:8080/"
        },
        "id": "wLCuuhb00Pl8",
        "outputId": "56b5d4d7-2a2f-497a-932d-26055fca448d"
      },
      "source": [
        "#method__29\r\n",
        "\r\n",
        "A = np.array([[1,1],\r\n",
        "             [0,1]])\r\n",
        "B = np.array([[3,4],\r\n",
        "             [0,8]])\r\n",
        "\r\n",
        "A*B"
      ],
      "execution_count": null,
      "outputs": [
        {
          "output_type": "execute_result",
          "data": {
            "text/plain": [
              "array([[3, 4],\n",
              "       [0, 8]])"
            ]
          },
          "metadata": {
            "tags": []
          },
          "execution_count": 69
        }
      ]
    },
    {
      "cell_type": "code",
      "metadata": {
        "colab": {
          "base_uri": "https://localhost:8080/"
        },
        "id": "jlKnpB1U0vEn",
        "outputId": "eab8b2ee-192c-443b-9cb6-3956893702b5"
      },
      "source": [
        "#method__30\r\n",
        "\r\n",
        "A @ B"
      ],
      "execution_count": null,
      "outputs": [
        {
          "output_type": "execute_result",
          "data": {
            "text/plain": [
              "array([[ 3, 12],\n",
              "       [ 0,  8]])"
            ]
          },
          "metadata": {
            "tags": []
          },
          "execution_count": 70
        }
      ]
    },
    {
      "cell_type": "code",
      "metadata": {
        "colab": {
          "base_uri": "https://localhost:8080/"
        },
        "id": "oGIqib1k08WS",
        "outputId": "60c234d0-3cee-4848-fa23-e88b42e1a7d3"
      },
      "source": [
        "#method__30\r\n",
        "\r\n",
        "A.dot(B)"
      ],
      "execution_count": null,
      "outputs": [
        {
          "output_type": "execute_result",
          "data": {
            "text/plain": [
              "array([[ 3, 12],\n",
              "       [ 0,  8]])"
            ]
          },
          "metadata": {
            "tags": []
          },
          "execution_count": 71
        }
      ]
    },
    {
      "cell_type": "code",
      "metadata": {
        "colab": {
          "base_uri": "https://localhost:8080/"
        },
        "id": "43znexL21C3X",
        "outputId": "0cba3c8e-fed6-4fca-fdd6-5847413d1805"
      },
      "source": [
        "#method__31\r\n",
        "\r\n",
        "rg = np.random.default_rng(1)\r\n",
        "\r\n",
        "a = np.ones((2, 3), dtype=int)\r\n",
        "b = rg.random((2, 3))\r\n",
        "\r\n",
        "a *= 3\r\n",
        "a"
      ],
      "execution_count": null,
      "outputs": [
        {
          "output_type": "execute_result",
          "data": {
            "text/plain": [
              "array([[3, 3, 3],\n",
              "       [3, 3, 3]])"
            ]
          },
          "metadata": {
            "tags": []
          },
          "execution_count": 75
        }
      ]
    },
    {
      "cell_type": "code",
      "metadata": {
        "colab": {
          "base_uri": "https://localhost:8080/"
        },
        "id": "gXuexxok10zJ",
        "outputId": "161d8939-31c4-4941-9a9c-c4d51c24c883"
      },
      "source": [
        "#method__32\r\n",
        "\r\n",
        "b += a\r\n",
        "\r\n",
        "b"
      ],
      "execution_count": null,
      "outputs": [
        {
          "output_type": "execute_result",
          "data": {
            "text/plain": [
              "array([[6.51182162, 6.9504637 , 6.14415961],\n",
              "       [6.94864945, 6.31183145, 6.42332645]])"
            ]
          },
          "metadata": {
            "tags": []
          },
          "execution_count": 77
        }
      ]
    },
    {
      "cell_type": "code",
      "metadata": {
        "colab": {
          "base_uri": "https://localhost:8080/",
          "height": 35
        },
        "id": "Bg-sATlP2lQG",
        "outputId": "7e26f8fb-281c-41d5-d6d6-6c37d024de97"
      },
      "source": [
        "#method__33\r\n",
        "\r\n",
        "b = np.linspace(0, pi, 3)\r\n",
        "\r\n",
        "b.dtype.name"
      ],
      "execution_count": null,
      "outputs": [
        {
          "output_type": "execute_result",
          "data": {
            "application/vnd.google.colaboratory.intrinsic+json": {
              "type": "string"
            },
            "text/plain": [
              "'float64'"
            ]
          },
          "metadata": {
            "tags": []
          },
          "execution_count": 82
        }
      ]
    },
    {
      "cell_type": "code",
      "metadata": {
        "colab": {
          "base_uri": "https://localhost:8080/"
        },
        "id": "3IE-fvm62yDH",
        "outputId": "761df2e0-6538-42f6-d187-93c828a6d52a"
      },
      "source": [
        "#method__34\r\n",
        "\r\n",
        "c = a+b\r\n",
        "\r\n",
        "c\r\n",
        "\r\n",
        "\r\n"
      ],
      "execution_count": null,
      "outputs": [
        {
          "output_type": "execute_result",
          "data": {
            "text/plain": [
              "array([[3.        , 4.57079633, 6.14159265],\n",
              "       [3.        , 4.57079633, 6.14159265]])"
            ]
          },
          "metadata": {
            "tags": []
          },
          "execution_count": 83
        }
      ]
    },
    {
      "cell_type": "code",
      "metadata": {
        "colab": {
          "base_uri": "https://localhost:8080/"
        },
        "id": "QQ4LoaDE7cri",
        "outputId": "c7bdafd0-f9d4-422e-a184-5c748f59051f"
      },
      "source": [
        "#method__35\r\n",
        "\r\n",
        "d = np.exp(c*1j)\r\n",
        "\r\n",
        "d\r\n"
      ],
      "execution_count": null,
      "outputs": [
        {
          "output_type": "execute_result",
          "data": {
            "text/plain": [
              "array([[-0.9899925 +0.14112001j, -0.14112001-0.9899925j ,\n",
              "         0.9899925 -0.14112001j],\n",
              "       [-0.9899925 +0.14112001j, -0.14112001-0.9899925j ,\n",
              "         0.9899925 -0.14112001j]])"
            ]
          },
          "metadata": {
            "tags": []
          },
          "execution_count": 84
        }
      ]
    },
    {
      "cell_type": "code",
      "metadata": {
        "colab": {
          "base_uri": "https://localhost:8080/",
          "height": 35
        },
        "id": "u9YLKWy67pdU",
        "outputId": "7e1d8a31-a640-45d4-de80-d87478c9a91f"
      },
      "source": [
        "#method__36\r\n",
        "\r\n",
        "d.dtype.name"
      ],
      "execution_count": null,
      "outputs": [
        {
          "output_type": "execute_result",
          "data": {
            "application/vnd.google.colaboratory.intrinsic+json": {
              "type": "string"
            },
            "text/plain": [
              "'complex128'"
            ]
          },
          "metadata": {
            "tags": []
          },
          "execution_count": 85
        }
      ]
    },
    {
      "cell_type": "code",
      "metadata": {
        "colab": {
          "base_uri": "https://localhost:8080/"
        },
        "id": "9xP8i5GA7yEy",
        "outputId": "908ae8f0-c9c0-4af8-8c35-8acabb9181ae"
      },
      "source": [
        "#method__37\r\n",
        "\r\n",
        "a = rg.random((2, 3))\r\n",
        "a"
      ],
      "execution_count": null,
      "outputs": [
        {
          "output_type": "execute_result",
          "data": {
            "text/plain": [
              "array([[0.20345524, 0.26231334, 0.75036467],\n",
              "       [0.28040876, 0.48519097, 0.9807372 ]])"
            ]
          },
          "metadata": {
            "tags": []
          },
          "execution_count": 88
        }
      ]
    },
    {
      "cell_type": "code",
      "metadata": {
        "colab": {
          "base_uri": "https://localhost:8080/"
        },
        "id": "5WDvluvC7_qe",
        "outputId": "bf422fb9-a227-4481-ed08-1e061425c10c"
      },
      "source": [
        "#method__38\r\n",
        "\r\n",
        "a.sum()"
      ],
      "execution_count": null,
      "outputs": [
        {
          "output_type": "execute_result",
          "data": {
            "text/plain": [
              "2.962470185966965"
            ]
          },
          "metadata": {
            "tags": []
          },
          "execution_count": 90
        }
      ]
    },
    {
      "cell_type": "code",
      "metadata": {
        "colab": {
          "base_uri": "https://localhost:8080/"
        },
        "id": "hK9v7CJ68JiA",
        "outputId": "cf47d979-cb25-4b83-c39f-bdb1c3125d1d"
      },
      "source": [
        "#method__39\r\n",
        "\r\n",
        "a.min()"
      ],
      "execution_count": null,
      "outputs": [
        {
          "output_type": "execute_result",
          "data": {
            "text/plain": [
              "0.20345524067614962"
            ]
          },
          "metadata": {
            "tags": []
          },
          "execution_count": 91
        }
      ]
    },
    {
      "cell_type": "code",
      "metadata": {
        "colab": {
          "base_uri": "https://localhost:8080/"
        },
        "id": "ip3gs6q68Twz",
        "outputId": "b6866dd1-6b71-45ce-aee0-25b0ab5c1bbc"
      },
      "source": [
        "#method__40\r\n",
        "\r\n",
        "a.max()"
      ],
      "execution_count": null,
      "outputs": [
        {
          "output_type": "execute_result",
          "data": {
            "text/plain": [
              "0.9807371998012386"
            ]
          },
          "metadata": {
            "tags": []
          },
          "execution_count": 92
        }
      ]
    },
    {
      "cell_type": "code",
      "metadata": {
        "colab": {
          "base_uri": "https://localhost:8080/"
        },
        "id": "3RVQJ9qu8Ws3",
        "outputId": "15826d03-aadd-4195-c534-7cf85b089798"
      },
      "source": [
        "#method__41\r\n",
        "\r\n",
        "\r\n",
        "b = np.arange(12).reshape(3, 4)\r\n",
        "b.sum(axis=0)"
      ],
      "execution_count": null,
      "outputs": [
        {
          "output_type": "execute_result",
          "data": {
            "text/plain": [
              "array([12, 15, 18, 21])"
            ]
          },
          "metadata": {
            "tags": []
          },
          "execution_count": 93
        }
      ]
    },
    {
      "cell_type": "code",
      "metadata": {
        "colab": {
          "base_uri": "https://localhost:8080/"
        },
        "id": "quiH2TVh8nu3",
        "outputId": "88188e50-262b-4c27-c9e8-facfc47a7e1a"
      },
      "source": [
        "#method__42\r\n",
        "\r\n",
        "b.min(axis=1)"
      ],
      "execution_count": null,
      "outputs": [
        {
          "output_type": "execute_result",
          "data": {
            "text/plain": [
              "array([0, 4, 8])"
            ]
          },
          "metadata": {
            "tags": []
          },
          "execution_count": 94
        }
      ]
    },
    {
      "cell_type": "code",
      "metadata": {
        "colab": {
          "base_uri": "https://localhost:8080/"
        },
        "id": "uVV-KVXu8xTL",
        "outputId": "50de1239-5e8d-4afc-daed-b729abbad09c"
      },
      "source": [
        "#method__43\r\n",
        "\r\n",
        "b.cumsum(axis=1)"
      ],
      "execution_count": null,
      "outputs": [
        {
          "output_type": "execute_result",
          "data": {
            "text/plain": [
              "array([[ 0,  1,  3,  6],\n",
              "       [ 4,  9, 15, 22],\n",
              "       [ 8, 17, 27, 38]])"
            ]
          },
          "metadata": {
            "tags": []
          },
          "execution_count": 95
        }
      ]
    },
    {
      "cell_type": "code",
      "metadata": {
        "colab": {
          "base_uri": "https://localhost:8080/"
        },
        "id": "hwOMXc8G877u",
        "outputId": "039f9832-bf12-4a2d-90f1-f190f4180791"
      },
      "source": [
        "#method__44\r\n",
        "\r\n",
        "B = np.arange(3)\r\n",
        "np.exp(B) "
      ],
      "execution_count": null,
      "outputs": [
        {
          "output_type": "execute_result",
          "data": {
            "text/plain": [
              "array([1.        , 2.71828183, 7.3890561 ])"
            ]
          },
          "metadata": {
            "tags": []
          },
          "execution_count": 96
        }
      ]
    },
    {
      "cell_type": "code",
      "metadata": {
        "colab": {
          "base_uri": "https://localhost:8080/"
        },
        "id": "8XK5vWGa9NKX",
        "outputId": "4570b03c-cf9c-4fb0-ba5e-a3de6a352dca"
      },
      "source": [
        "#method__45\r\n",
        "\r\n",
        "np.sqrt(B)"
      ],
      "execution_count": null,
      "outputs": [
        {
          "output_type": "execute_result",
          "data": {
            "text/plain": [
              "array([0.        , 1.        , 1.41421356])"
            ]
          },
          "metadata": {
            "tags": []
          },
          "execution_count": 97
        }
      ]
    },
    {
      "cell_type": "code",
      "metadata": {
        "colab": {
          "base_uri": "https://localhost:8080/"
        },
        "id": "0CyaR0Wj9TYb",
        "outputId": "4d9fad7f-abd2-458c-bae4-eb3116923b07"
      },
      "source": [
        "#method__46\r\n",
        "\r\n",
        "C = np.array([1, 5, 6])\r\n",
        "\r\n",
        "np.add(B, C)"
      ],
      "execution_count": null,
      "outputs": [
        {
          "output_type": "execute_result",
          "data": {
            "text/plain": [
              "array([1, 6, 8])"
            ]
          },
          "metadata": {
            "tags": []
          },
          "execution_count": 98
        }
      ]
    },
    {
      "cell_type": "code",
      "metadata": {
        "colab": {
          "base_uri": "https://localhost:8080/"
        },
        "id": "gqe7WJ0D9kNA",
        "outputId": "f795ecc7-6ca6-4ec0-f3ac-5c6930370caf"
      },
      "source": [
        "#method__47\r\n",
        "\r\n",
        "np.all(B)"
      ],
      "execution_count": null,
      "outputs": [
        {
          "output_type": "execute_result",
          "data": {
            "text/plain": [
              "False"
            ]
          },
          "metadata": {
            "tags": []
          },
          "execution_count": 102
        }
      ]
    },
    {
      "cell_type": "code",
      "metadata": {
        "colab": {
          "base_uri": "https://localhost:8080/"
        },
        "id": "9T_5vIVf9pu8",
        "outputId": "2ac4ec39-d9cf-4c26-aa49-f83619488ebd"
      },
      "source": [
        "#method__48\r\n",
        "\r\n",
        "np.average(B)"
      ],
      "execution_count": null,
      "outputs": [
        {
          "output_type": "execute_result",
          "data": {
            "text/plain": [
              "1.0"
            ]
          },
          "metadata": {
            "tags": []
          },
          "execution_count": 103
        }
      ]
    },
    {
      "cell_type": "code",
      "metadata": {
        "colab": {
          "base_uri": "https://localhost:8080/"
        },
        "id": "f--AlMa59zp7",
        "outputId": "b77fff0d-b7bc-4adf-905d-2531a98dc3b2"
      },
      "source": [
        "#method__49\r\n",
        "\r\n",
        "\r\n",
        "np.sort(B)"
      ],
      "execution_count": null,
      "outputs": [
        {
          "output_type": "execute_result",
          "data": {
            "text/plain": [
              "array([0, 1, 2])"
            ]
          },
          "metadata": {
            "tags": []
          },
          "execution_count": 105
        }
      ]
    },
    {
      "cell_type": "code",
      "metadata": {
        "colab": {
          "base_uri": "https://localhost:8080/"
        },
        "id": "GnK21Y5l-B5b",
        "outputId": "84ab5dcb-0fdf-47da-ea0d-513d17c11ee1"
      },
      "source": [
        "#method__50\r\n",
        "\r\n",
        "np.invert(C)"
      ],
      "execution_count": null,
      "outputs": [
        {
          "output_type": "execute_result",
          "data": {
            "text/plain": [
              "array([-2, -6, -7])"
            ]
          },
          "metadata": {
            "tags": []
          },
          "execution_count": 106
        }
      ]
    },
    {
      "cell_type": "code",
      "metadata": {
        "id": "GQ7BtVRY-L9g"
      },
      "source": [
        ""
      ],
      "execution_count": null,
      "outputs": []
    }
  ]
}