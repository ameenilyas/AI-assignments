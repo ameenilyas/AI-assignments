{
  "nbformat": 4,
  "nbformat_minor": 0,
  "metadata": {
    "colab": {
      "name": "assignment2.ipynb ",
      "provenance": []
    },
    "kernelspec": {
      "name": "python3",
      "display_name": "Python 3"
    }
  },
  "cells": [
    {
      "cell_type": "code",
      "metadata": {
        "colab": {
          "base_uri": "https://localhost:8080/"
        },
        "id": "967lr60OE7Ev",
        "outputId": "122161a1-0fc9-4fc7-9de5-8fdbfccab45a"
      },
      "source": [
        "import numpy as np\r\n",
        "\r\n",
        "# Task no 1\r\n",
        "def function1():\r\n",
        "    # create 2d array from 1,12 range \r\n",
        "    # dimension should be 6row 2 columns  \r\n",
        "    # and assign this array values in x values in x variable\r\n",
        "    # Hint: you can use arange and reshape numpy methods  \r\n",
        "\r\n",
        "  array =  np.arange(1,13).reshape((6,2)) \r\n",
        "  x = array\r\n",
        "  return x\r\n",
        "\r\n",
        "function1()  \r\n",
        "\r\n",
        " "
      ],
      "execution_count": 3,
      "outputs": [
        {
          "output_type": "execute_result",
          "data": {
            "text/plain": [
              "array([[ 1,  2],\n",
              "       [ 3,  4],\n",
              "       [ 5,  6],\n",
              "       [ 7,  8],\n",
              "       [ 9, 10],\n",
              "       [11, 12]])"
            ]
          },
          "metadata": {
            "tags": []
          },
          "execution_count": 3
        }
      ]
    },
    {
      "cell_type": "code",
      "metadata": {
        "colab": {
          "base_uri": "https://localhost:8080/"
        },
        "id": "5L6XvQl_Bang",
        "outputId": "7dc52597-e08d-493a-a6bb-e76bd17b5ad5"
      },
      "source": [
        "pip install numpy"
      ],
      "execution_count": 1,
      "outputs": [
        {
          "output_type": "stream",
          "text": [
            "Requirement already satisfied: numpy in /usr/local/lib/python3.6/dist-packages (1.19.4)\n"
          ],
          "name": "stdout"
        }
      ]
    },
    {
      "cell_type": "code",
      "metadata": {
        "colab": {
          "base_uri": "https://localhost:8080/"
        },
        "id": "_7tPqSO-GXur",
        "outputId": "56982231-ff22-4fa2-f833-809dd0e7cfa8"
      },
      "source": [
        "def function2():\r\n",
        "    #create 3D array (3,3,3)\r\n",
        "    #must data type should have float64\r\n",
        "    #array value should be satart from 10 and end with 36 (both included)\r\n",
        "    # Hint: dtype, reshape \r\n",
        "  \r\n",
        "    array = np.arange(10, 37, dtype=float).reshape((3, 3, 3)) #wrtie your code here\r\n",
        "\r\n",
        "\r\n",
        "    return array\r\n",
        "function2()    "
      ],
      "execution_count": null,
      "outputs": [
        {
          "output_type": "execute_result",
          "data": {
            "text/plain": [
              "array([[[10., 11., 12.],\n",
              "        [13., 14., 15.],\n",
              "        [16., 17., 18.]],\n",
              "\n",
              "       [[19., 20., 21.],\n",
              "        [22., 23., 24.],\n",
              "        [25., 26., 27.]],\n",
              "\n",
              "       [[28., 29., 30.],\n",
              "        [31., 32., 33.],\n",
              "        [34., 35., 36.]]])"
            ]
          },
          "metadata": {
            "tags": []
          },
          "execution_count": 41
        }
      ]
    },
    {
      "cell_type": "code",
      "metadata": {
        "colab": {
          "base_uri": "https://localhost:8080/"
        },
        "id": "owFsMzjHWvpi",
        "outputId": "f84d3b27-ca23-4499-e7dd-3d5e61c13072"
      },
      "source": [
        "def function3():\r\n",
        "    #extract those numbers from given array. those are must exist in 5,7 Table\r\n",
        "    #example [35,70,105,..]\r\n",
        "    a = np.arange(1, 100*10+1).reshape((100,10))\r\n",
        "              #wrtie your code here\r\n",
        "    condition = np.mod(a, 35)==0\r\n",
        "    x = np.extract(condition, a)\r\n",
        "    return x\r\n",
        "\r\n",
        "function3()    "
      ],
      "execution_count": null,
      "outputs": [
        {
          "output_type": "execute_result",
          "data": {
            "text/plain": [
              "array([ 35,  70, 105, 140, 175, 210, 245, 280, 315, 350, 385, 420, 455,\n",
              "       490, 525, 560, 595, 630, 665, 700, 735, 770, 805, 840, 875, 910,\n",
              "       945, 980])"
            ]
          },
          "metadata": {
            "tags": []
          },
          "execution_count": 54
        }
      ]
    },
    {
      "cell_type": "code",
      "metadata": {
        "colab": {
          "base_uri": "https://localhost:8080/"
        },
        "id": "ofKcODKKcY21",
        "outputId": "4158ca1a-a938-4405-cf86-18c1d9e8004a"
      },
      "source": [
        "def function4():\r\n",
        "    #Swap columns 1 and 2 in the array arr.\r\n",
        "\r\n",
        "    arr = np.arange(9).reshape(3,3)\r\n",
        "\r\n",
        "    #wrtie your code here\r\n",
        "    return arr\r\n",
        "\r\n",
        "function4()    "
      ],
      "execution_count": null,
      "outputs": [
        {
          "output_type": "execute_result",
          "data": {
            "text/plain": [
              "array([[0, 1, 2],\n",
              "       [3, 4, 5],\n",
              "       [6, 7, 8]])"
            ]
          },
          "metadata": {
            "tags": []
          },
          "execution_count": 55
        }
      ]
    },
    {
      "cell_type": "code",
      "metadata": {
        "colab": {
          "base_uri": "https://localhost:8080/"
        },
        "id": "JrI79IHLe-mi",
        "outputId": "4652b9af-ef21-47f0-e086-0613d9e072dd"
      },
      "source": [
        "def function5():\r\n",
        "    #Create a null vector of size 20 with 4 rows and 5 columns with numpy function\r\n",
        "\r\n",
        "    z = np.zeros([5, 4]) #wrtie your code here\r\n",
        "\r\n",
        "    return z\r\n",
        "\r\n",
        "function5()    "
      ],
      "execution_count": null,
      "outputs": [
        {
          "output_type": "execute_result",
          "data": {
            "text/plain": [
              "array([[0., 0., 0., 0.],\n",
              "       [0., 0., 0., 0.],\n",
              "       [0., 0., 0., 0.],\n",
              "       [0., 0., 0., 0.],\n",
              "       [0., 0., 0., 0.]])"
            ]
          },
          "metadata": {
            "tags": []
          },
          "execution_count": 58
        }
      ]
    },
    {
      "cell_type": "code",
      "metadata": {
        "colab": {
          "base_uri": "https://localhost:8080/"
        },
        "id": "zEH_6crsfVIZ",
        "outputId": "56389f89-79e0-4b3e-fc41-fa0b2c54d50b"
      },
      "source": [
        "def function6():\r\n",
        "    # Create a null vector of size 10 but the fifth and eighth value which is 10,20 respectively\r\n",
        "\r\n",
        "    arr = np.zeros(10)                             #wrtie your code here\r\n",
        "    arr[5]= 10\r\n",
        "    arr[8]= 20\r\n",
        "\r\n",
        "    return arr\r\n",
        "\r\n",
        "function6()    "
      ],
      "execution_count": null,
      "outputs": [
        {
          "output_type": "execute_result",
          "data": {
            "text/plain": [
              "array([ 0.,  0.,  0.,  0.,  0., 10.,  0.,  0., 20.,  0.])"
            ]
          },
          "metadata": {
            "tags": []
          },
          "execution_count": 59
        }
      ]
    },
    {
      "cell_type": "code",
      "metadata": {
        "colab": {
          "base_uri": "https://localhost:8080/"
        },
        "id": "gjy3I4-cgi2z",
        "outputId": "66cad5b1-bfe2-4ec2-ea35-d12c064a2432"
      },
      "source": [
        "def function7():\r\n",
        "    #  Create an array of zeros with the same shape and type as X. Dont use reshape method\r\n",
        "    x = np.zeros(4, dtype=np.int64)     #write your code here\r\n",
        "  \r\n",
        "    return  x   \r\n",
        "function7()"
      ],
      "execution_count": null,
      "outputs": [
        {
          "output_type": "execute_result",
          "data": {
            "text/plain": [
              "array([0, 0, 0, 0])"
            ]
          },
          "metadata": {
            "tags": []
          },
          "execution_count": 68
        }
      ]
    },
    {
      "cell_type": "code",
      "metadata": {
        "colab": {
          "base_uri": "https://localhost:8080/"
        },
        "id": "jW6M7iHZg4kw",
        "outputId": "62a6df37-2651-4aba-de86-c89303e304d2"
      },
      "source": [
        "#task8\r\n",
        "\r\n",
        "def function8():\r\n",
        "    # Create a new array of 2x5 uints, filled with 6.\r\n",
        "\r\n",
        "    x = np.full((2, 5), 6) #write your code here\r\n",
        "    return x\r\n",
        "function8()"
      ],
      "execution_count": 67,
      "outputs": [
        {
          "output_type": "execute_result",
          "data": {
            "text/plain": [
              "array([[6, 6, 6, 6, 6],\n",
              "       [6, 6, 6, 6, 6]])"
            ]
          },
          "metadata": {
            "tags": []
          },
          "execution_count": 67
        }
      ]
    },
    {
      "cell_type": "code",
      "metadata": {
        "colab": {
          "base_uri": "https://localhost:8080/"
        },
        "id": "-jlgZxQ_iXWC",
        "outputId": "bd13b0cf-4807-4e68-ef63-479280200bf7"
      },
      "source": [
        "def function9():\r\n",
        "    # Create an array of 2, 4, 6, 8, ..., 100.\r\n",
        "\r\n",
        "    a = np.arange(2, 101, 2) # write your code here\r\n",
        "\r\n",
        "    return a\r\n",
        "function9()"
      ],
      "execution_count": null,
      "outputs": [
        {
          "output_type": "execute_result",
          "data": {
            "text/plain": [
              "array([  2,   4,   6,   8,  10,  12,  14,  16,  18,  20,  22,  24,  26,\n",
              "        28,  30,  32,  34,  36,  38,  40,  42,  44,  46,  48,  50,  52,\n",
              "        54,  56,  58,  60,  62,  64,  66,  68,  70,  72,  74,  76,  78,\n",
              "        80,  82,  84,  86,  88,  90,  92,  94,  96,  98, 100])"
            ]
          },
          "metadata": {
            "tags": []
          },
          "execution_count": 79
        }
      ]
    },
    {
      "cell_type": "code",
      "metadata": {
        "id": "xs0AxsWrnaB8",
        "colab": {
          "base_uri": "https://localhost:8080/"
        },
        "outputId": "2a136752-75ea-4f31-aa27-37a802984bfd"
      },
      "source": [
        "#task10\r\n",
        "def function10():\r\n",
        "    # Subtract the 1d array brr from the 2d array arr, such that each item of brr subtracts from respective row of arr.\r\n",
        "\r\n",
        "    arr = np.array([[3,3,3],[4,4,4],[5,5,5]])\r\n",
        "    brr = np.array([1,2,3])\r\n",
        "    subt = arr - brr  # write your code here \r\n",
        "\r\n",
        "    return subt\r\n",
        "\r\n",
        "function10()"
      ],
      "execution_count": null,
      "outputs": [
        {
          "output_type": "execute_result",
          "data": {
            "text/plain": [
              "array([[2, 1, 0],\n",
              "       [3, 2, 1],\n",
              "       [4, 3, 2]])"
            ]
          },
          "metadata": {
            "tags": []
          },
          "execution_count": 81
        }
      ]
    },
    {
      "cell_type": "code",
      "metadata": {
        "id": "bR8LQ13knbSW",
        "colab": {
          "base_uri": "https://localhost:8080/"
        },
        "outputId": "c67f9ef2-ce3c-49b7-ed88-05c40c43cd19"
      },
      "source": [
        "#task11\r\n",
        "def function11():\r\n",
        "    # Replace all odd numbers in arr with -1 without changing arr.\r\n",
        "\r\n",
        "    arr = np.array([0, 1, 2, 3, 4, 5, 6, 7, 8, 9])\r\n",
        "    odd_values = (arr %2 == 1) \r\n",
        "    arr[odd_values] = -1\r\n",
        "    ans = arr\r\n",
        "\r\n",
        "    return ans\r\n",
        "\r\n",
        "function11()    "
      ],
      "execution_count": null,
      "outputs": [
        {
          "output_type": "execute_result",
          "data": {
            "text/plain": [
              "array([ 0, -1,  2, -1,  4, -1,  6, -1,  8, -1])"
            ]
          },
          "metadata": {
            "tags": []
          },
          "execution_count": 97
        }
      ]
    },
    {
      "cell_type": "code",
      "metadata": {
        "colab": {
          "base_uri": "https://localhost:8080/"
        },
        "id": "j2_D87WSpqvM",
        "outputId": "56f3d688-28b6-4275-e03f-dd2cb8e53254"
      },
      "source": [
        "def function12():\r\n",
        "    # Create the following pattern without hardcoding. Use only numpy functions and the below input array arr.\r\n",
        "    # HINT: use stacking concept\r\n",
        "\r\n",
        "    arr = np.array([1,2,3])\r\n",
        "     \r\n",
        "    ans =                     #write your code here \r\n",
        "\r\n",
        "    return ans\r\n",
        "function12()"
      ],
      "execution_count": null,
      "outputs": [
        {
          "output_type": "execute_result",
          "data": {
            "text/plain": [
              "array([1, 2, 1, 1, 2, 3, 1, 2, 3])"
            ]
          },
          "metadata": {
            "tags": []
          },
          "execution_count": 111
        }
      ]
    },
    {
      "cell_type": "code",
      "metadata": {
        "colab": {
          "base_uri": "https://localhost:8080/"
        },
        "id": "oe2Uu8qMtpoh",
        "outputId": "a40d8932-a9ca-4868-e473-e1392a14b051"
      },
      "source": [
        "#task13\r\n",
        "def function13():\r\n",
        "    # Set a condition which gets all items between 5 and 10 from arr.\r\n",
        "\r\n",
        "\r\n",
        "    arr = np.array([2, 6, 1, 9, 10, 3, 27])\r\n",
        "    ans = np.extract((arr > 5) & (arr < 10), arr )                       #write your code here \r\n",
        "\r\n",
        "    return ans\r\n",
        "     \r\n",
        "function13()   "
      ],
      "execution_count": 38,
      "outputs": [
        {
          "output_type": "execute_result",
          "data": {
            "text/plain": [
              "array([6, 9])"
            ]
          },
          "metadata": {
            "tags": []
          },
          "execution_count": 38
        }
      ]
    },
    {
      "cell_type": "code",
      "metadata": {
        "colab": {
          "base_uri": "https://localhost:8080/"
        },
        "id": "txOj0kcUwNl6",
        "outputId": "b78f0db3-48fa-41a3-a31f-61a5e36e3df1"
      },
      "source": [
        "def function14():\r\n",
        "    # Create an 8X3 integer array from a range between 10 to 34 such that the difference between each element is 1 and then Split the array into four equal-sized sub-arrays.\r\n",
        "    # Hint use split method\r\n",
        "\r\n",
        "\r\n",
        "    arr = np.arange(10, 34, 1).reshape((4, 6))                               #write reshape code\r\n",
        "    ans = np.array_split(arr, 4)                                                    #write your code here \r\n",
        "\r\n",
        "    return ans\r\n",
        "\r\n",
        "function14()"
      ],
      "execution_count": null,
      "outputs": [
        {
          "output_type": "execute_result",
          "data": {
            "text/plain": [
              "[array([[10, 11, 12, 13, 14, 15]]),\n",
              " array([[16, 17, 18, 19, 20, 21]]),\n",
              " array([[22, 23, 24, 25, 26, 27]]),\n",
              " array([[28, 29, 30, 31, 32, 33]])]"
            ]
          },
          "metadata": {
            "tags": []
          },
          "execution_count": 146
        }
      ]
    },
    {
      "cell_type": "code",
      "metadata": {
        "colab": {
          "base_uri": "https://localhost:8080/"
        },
        "id": "9pJgvIrIy3bo",
        "outputId": "97de525a-b1a2-4368-938a-0fa41274bce0"
      },
      "source": [
        "#task15\r\n",
        "def function15():\r\n",
        "    #Sort following NumPy array by the second column\r\n",
        "\r\n",
        "\r\n",
        "    arr = np.array([[ 8,  2, -2],[-4,  1,  7],[ 6,  3,  9]])\r\n",
        "    ans = sorted(arr, key=lambda a_entry: a_entry[1]) \r\n",
        "        #write your code here \r\n",
        "\r\n",
        "    return ans\r\n",
        "function15()"
      ],
      "execution_count": null,
      "outputs": [
        {
          "output_type": "execute_result",
          "data": {
            "text/plain": [
              "[array([-4,  1,  7]), array([ 8,  2, -2]), array([6, 3, 9])]"
            ]
          },
          "metadata": {
            "tags": []
          },
          "execution_count": 151
        }
      ]
    },
    {
      "cell_type": "code",
      "metadata": {
        "colab": {
          "base_uri": "https://localhost:8080/"
        },
        "id": "GoEYeb5m0Pfu",
        "outputId": "1b78d3cb-9c39-41a9-9a4c-d6abcaeafad5"
      },
      "source": [
        "#task16\r\n",
        "def function16():\r\n",
        "    #Write a NumPy program to join a sequence of arrays along depth.\r\n",
        "\r\n",
        "\r\n",
        "    x = np.array([[1], [2], [3]]) \r\n",
        "    y = np.array([[2], [3], [4]]) \r\n",
        "    ans = np.vstack((x, y)) #write your code here \r\n",
        "\r\n",
        "    return ans\r\n",
        "function16()"
      ],
      "execution_count": null,
      "outputs": [
        {
          "output_type": "execute_result",
          "data": {
            "text/plain": [
              "array([[1],\n",
              "       [2],\n",
              "       [3],\n",
              "       [2],\n",
              "       [3],\n",
              "       [4]])"
            ]
          },
          "metadata": {
            "tags": []
          },
          "execution_count": 160
        }
      ]
    },
    {
      "cell_type": "code",
      "metadata": {
        "colab": {
          "base_uri": "https://localhost:8080/"
        },
        "id": "XTyjsBa72B7S",
        "outputId": "bb5b3ba8-340e-42a8-dc0d-d5410bb94c13"
      },
      "source": [
        "#Task17\r\n",
        "def function17():\r\n",
        "    # replace numbers with \"YES\" if it divided by 3 and 5\r\n",
        "    # otherwise it will be replaced with \"NO\"\r\n",
        "    # Hint: np.where\r\n",
        "    arr = np.arange(1,10*10+1).reshape((10,10))\r\n",
        "    ans = np.where((arr % 3) & (arr % 5), 'Yes', 'No' )          # Write Your Code HERE\r\n",
        "\r\n",
        "    return ans\r\n",
        "function17()"
      ],
      "execution_count": 40,
      "outputs": [
        {
          "output_type": "execute_result",
          "data": {
            "text/plain": [
              "array([['Yes', 'Yes', 'No', 'No', 'No', 'No', 'No', 'Yes', 'No', 'No'],\n",
              "       ['No', 'No', 'Yes', 'No', 'No', 'Yes', 'Yes', 'No', 'No', 'No'],\n",
              "       ['No', 'No', 'Yes', 'No', 'No', 'No', 'No', 'Yes', 'No', 'No'],\n",
              "       ['Yes', 'Yes', 'No', 'No', 'No', 'No', 'No', 'Yes', 'No', 'No'],\n",
              "       ['No', 'No', 'Yes', 'No', 'No', 'Yes', 'Yes', 'No', 'No', 'No'],\n",
              "       ['No', 'No', 'Yes', 'No', 'No', 'No', 'No', 'Yes', 'No', 'No'],\n",
              "       ['Yes', 'Yes', 'No', 'No', 'No', 'No', 'No', 'Yes', 'No', 'No'],\n",
              "       ['No', 'No', 'Yes', 'No', 'No', 'Yes', 'Yes', 'No', 'No', 'No'],\n",
              "       ['No', 'No', 'Yes', 'No', 'No', 'No', 'No', 'Yes', 'No', 'No'],\n",
              "       ['Yes', 'Yes', 'No', 'No', 'No', 'No', 'No', 'Yes', 'No', 'No']],\n",
              "      dtype='<U3')"
            ]
          },
          "metadata": {
            "tags": []
          },
          "execution_count": 40
        }
      ]
    },
    {
      "cell_type": "code",
      "metadata": {
        "colab": {
          "base_uri": "https://localhost:8080/"
        },
        "id": "27GBlAKq32MC",
        "outputId": "c5e7e2e1-9eb1-49b8-d001-0ad9a7531e0b"
      },
      "source": [
        "#Task18\r\n",
        "def function18():\r\n",
        "    # count values of \"students\" are exist in \"piaic\"\r\n",
        "    piaic = np.arange(100)\r\n",
        "    students = np.array([5,20,50,200,301,7001])\r\n",
        "    x = np.isin(students, piaic)      \r\n",
        "    return x\r\n",
        "function18()"
      ],
      "execution_count": null,
      "outputs": [
        {
          "output_type": "execute_result",
          "data": {
            "text/plain": [
              "array([ True,  True,  True, False, False, False])"
            ]
          },
          "metadata": {
            "tags": []
          },
          "execution_count": 181
        }
      ]
    },
    {
      "cell_type": "code",
      "metadata": {
        "id": "P02SvjE245YD",
        "colab": {
          "base_uri": "https://localhost:8080/"
        },
        "outputId": "ca684132-64b7-414f-9ada-2c60bdee07dc"
      },
      "source": [
        "# Task19\r\n",
        "def function19():\r\n",
        "    #Create variable \"X\" from 1,25 (both are included) range values\r\n",
        "    #Convert \"X\" variable dimension into 5 rows and 5 columns\r\n",
        "    #Create one more variable \"W\" copy of \"X\" \r\n",
        "    #Swap \"W\" row and column axis (like transpose)\r\n",
        "    # then create variable \"b\" with value equal to 5\r\n",
        "    # Now return output as \"(X*W)+b:\r\n",
        "\r\n",
        "    X =   np.arange(1, 26).reshape(5, 5)\r\n",
        "    X[:, [1, 4]] = X[:, [4, 2]]                                 \r\n",
        "    W = X  \r\n",
        "    b = 5                              \r\n",
        "    output = (X*W)+b                               \r\n",
        "\r\n",
        "    return output\r\n",
        "function19()"
      ],
      "execution_count": 58,
      "outputs": [
        {
          "output_type": "execute_result",
          "data": {
            "text/plain": [
              "array([[  6,  30,  14,  21,  14],\n",
              "       [ 41, 105,  69,  86,  69],\n",
              "       [126, 230, 174, 201, 174],\n",
              "       [261, 405, 329, 366, 329],\n",
              "       [446, 630, 534, 581, 534]])"
            ]
          },
          "metadata": {
            "tags": []
          },
          "execution_count": 58
        }
      ]
    },
    {
      "cell_type": "code",
      "metadata": {
        "colab": {
          "base_uri": "https://localhost:8080/"
        },
        "id": "Y4S3yfczHvUr",
        "outputId": "1dd38908-958d-4f03-d605-a411b1f758cb"
      },
      "source": [
        "#task20\r\n",
        "def fucntion20():\r\n",
        "    #apply fuction \"abc\" on each value of Array \"X\"\r\n",
        "    x = np.arange(1,11)\r\n",
        "    def xyz(x):\r\n",
        "      def abc(x):\r\n",
        "        return x*2+3-2\r\n",
        "      abc(x)\r\n",
        "      return abc(x)\r\n",
        "    xyz(x)\r\n",
        "\r\n",
        "    return xyz(x)\r\n",
        "\r\n",
        "fucntion20()"
      ],
      "execution_count": 65,
      "outputs": [
        {
          "output_type": "execute_result",
          "data": {
            "text/plain": [
              "array([ 3,  5,  7,  9, 11, 13, 15, 17, 19, 21])"
            ]
          },
          "metadata": {
            "tags": []
          },
          "execution_count": 65
        }
      ]
    },
    {
      "cell_type": "code",
      "metadata": {
        "id": "QQZpc8uaLFty"
      },
      "source": [
        ""
      ],
      "execution_count": null,
      "outputs": []
    }
  ]
}